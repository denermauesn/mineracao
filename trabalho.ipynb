{
 "cells": [
  {
   "cell_type": "markdown",
   "metadata": {},
   "source": [
    "# Trabalho de mineração de dados\n",
    "\n",
    "\n",
    "\n",
    "**Resumo** - O volume de dados criados vem se expandindo de maneira massiva, e as organizações atualmente têm se mostrado eficientes no armazenamento desses dados. Porém, ter uma grande quantidade de informação não significa ter conhecimento acerca dessas, sendo assim, é necessário utilizar estratégias que possam transformar um grande apanhado de informações em algo relevante do ponto de vista científico e/ou comercial. Tendo isso em vista, o trabalho a seguir tem como objetivo utilizar técnicas de  mineração de dados sobre uma base de dados previamente disponibilizada, a mesma contém informações acerca dos fatores pertinentes na análise e no diagnóstico de tumores. Será  abordada a problemática de classificação, demonstrando assim algumas opções para o tratamento dos dados, e para fazer a análise exploratória dos dados será utilizado a metodología de data mining CRISP-DM.\n",
    "\n",
    "## 1. Introdução\n",
    "A comunidade médica a muito direciona esforços no sentido de pesquisar maneiras e desenvolver ferramentas para o tratamento e a prevenção de diversas doenças. Nesse sentido, estudiosos do segmento vem se beneficiando dos avanços tecnológicos implementados especificamente para a área da saúde, pois com isso é possível otimizar o tempo dos diagnósticos e torná-los mais precisos, fazendo com que as chances de cura aumentem. Porém, ainda existe um longo caminho a ser percorrido, principalmente nos casos de doenças mais graves, como câncer, que por sua complexidade e letalidade é uma das que mais é estudada. \n",
    "    \n",
    "Câncer(também conhecido como tumor maligno), é uma das enfermidades que mais mata no mundo. Ele se caracteriza como sendo uma anomalia encontrada em células doentes, que faz com que as mesmas cresçam de maneira descontrolada e adentrem em outros tecidos e órgãos. \n",
    "\n",
    "O diagnóstico precoce de um tumor maligno é extremamente importante, já que as chances de cura em estágios avançados diminuem drasticamente. Portanto, é necessário que hajam formas de otimizar o processo de detecção de tumores malignos, e é nesse contexto que a implementação de soluções baseadas em data mining pode ser de grande valor.\n",
    "\n",
    "Dos desafios encontrados na identificação de um câncer, podemos citar a necessidade de identificar seus tipos e subtipos, o que faz com que o uso de mineração de dados possa ser útil no desenvolvimento de aplicações que tenham o objetivo de resolver esse problema, pois o uso de data mining pode auxiliar no momento de classificar pacientes com câncer e identificar aqueles que possam vir a apresentar a doença.\n",
    "\n",
    "## 2. Entendimento do  negócio\n",
    "\n",
    "O objetivo deste trabalho é aplicar técnicas de mineração de dados  sobre a base de dados fornecida, analisando o resultados obtidos para selecionar o melhor modelo para a base de dados.\n",
    "\n",
    "Supondo a não existência da base de dados que foi disponibilizada, as informações necessárias seriam coletadas através de uma pesquisa exploratória em artigos e em banco de dados de instituições que trabalham com a temática do câncer.\n",
    "\n",
    "Segundo a Agência Internacional para Pesquisa do Câncer, estima-se  que em 2018 tenham sido registrados mais de 18 milhões de novos casos de câncer, dos quais levaram 9,6 milhões de pessoas a morte. Porém, o diagnóstico precoce da maioria dos tipos de câncer fazem com a estimativa de cura chega a 80%. Nesse contexto, o uso de técnicas de mineração de dados têm um potencial enorme no que se refere a identificação de fatores que podem levar ao aparecimento da doença, bem como no auxílio para a identificação ainda nos estágios iniciais da mesma, aumentando assim as chances de cura. \n",
    "\n",
    "## 3. Compreensão dos Dados\n",
    "\n",
    "Os dados utilizados foram disponibilizados previamente pelo professor da disciplina de Mineração de Dados. Tais informações encontram-se em dois documentos no formato .csv, onde um deles é o arquivo de teste/treino(data.csv) e o outro o de validação(anexo_1.csv). O arquivo data.csv é composto por 2 classes (benigno e maligno). Foram examinadas 699 amostras, das quais 179 possuem a variação maligna de câncer, 381 são benignas, 139 não apresentam identificação. \n",
    "\n",
    "\n",
    "## 4. Preparação dos Dados\n",
    "\n",
    "Em um primeiro momento foi gerado um boxplot para verificar a distribuição dos valores em cada atributo. \n"
   ]
  },
  {
   "cell_type": "code",
   "execution_count": 143,
   "metadata": {
    "scrolled": false
   },
   "outputs": [
    {
     "data": {
      "text/plain": [
       "<matplotlib.axes._subplots.AxesSubplot at 0x7f670aa570b8>"
      ]
     },
     "execution_count": 143,
     "metadata": {},
     "output_type": "execute_result"
    },
    {
     "data": {
      "image/png": "[encoded data removed]",
      "text/plain": [
       "<Figure size 1584x432 with 1 Axes>"
      ]
     },
     "metadata": {},
     "output_type": "display_data"
    }
   ],
   "source": [
    "import warnings\n",
    "warnings.filterwarnings('ignore')\n",
    "import pandas as pd\n",
    "global data \n",
    "data = pd.read_csv('data.csv', header=0)\n",
    "data.plot.box(fontsize=13, figsize=(22,6))"
   ]
  },
  {
   "cell_type": "markdown",
   "metadata": {},
   "source": [
    "Com o boxplot foi possivel verificar algumas informações como outliers, distribuição dos dados etc. O que nos a judou a perceber que alguns atributos poderiam atrapalhar na classificação, como o atribudo **Mitoses** por exemplo que concentra a maior parte dos seus dados no valor 1, como podemos ver no box plot, e fica ainda mais claro no gráfico a seguir"
   ]
  },
  {
   "cell_type": "code",
   "execution_count": 144,
   "metadata": {},
   "outputs": [
    {
     "data": {
      "text/plain": [
       "<matplotlib.axes._subplots.AxesSubplot at 0x7f670b3e7048>"
      ]
     },
     "execution_count": 144,
     "metadata": {},
     "output_type": "execute_result"
    },
    {
     "data": {
      "image/png": "[encoded data removed]",
      "text/plain": [
       "<Figure size 1440x432 with 1 Axes>"
      ]
     },
     "metadata": {},
     "output_type": "display_data"
    }
   ],
   "source": [
    "import matplotlib.pyplot as plt\n",
    "pd.DataFrame({'Mitoses': sorted(data.Mitoses.values.tolist())}).plot.line(fontsize=14, figsize=(20,6))"
   ]
  },
  {
   "cell_type": "markdown",
   "metadata": {},
   "source": [
    "Com base em alguns testes confirmamos a suposição de que alguns atributos poderiam atrapalhar a acuracia do modelo, e com isso removemos os atributos **Mitoses**, **Normal_Nucleoli**, e **Cell_Size_Uniformity**.\n",
    "\n"
   ]
  },
  {
   "cell_type": "code",
   "execution_count": 145,
   "metadata": {},
   "outputs": [],
   "source": [
    "data = data.drop(columns=['Mitoses', 'Normal_Nucleoli', 'Cell_Size_Uniformity'])\n",
    "data.loc[data['Single_Epi_Cell_Size'] > 7, 'Single_Epi_Cell_Size'\n",
    "        ] = data['Single_Epi_Cell_Size'].median()"
   ]
  },
  {
   "cell_type": "markdown",
   "metadata": {},
   "source": [
    "Os outliers detectados pelo box plot foram substituidos pela mediana do atributo. Além de outliers foram encontrados valores ausentes na tabela, mais precisamente 16 como podemos ver na tabela a seguir."
   ]
  },
  {
   "cell_type": "code",
   "execution_count": 122,
   "metadata": {},
   "outputs": [
    {
     "name": "stdout",
     "output_type": "stream",
     "text": [
      "Valores ausentes: 16\n"
     ]
    },
    {
     "data": {
      "text/html": [
       "<div>\n",
       "<style scoped>\n",
       "    .dataframe tbody tr th:only-of-type {\n",
       "        vertical-align: middle;\n",
       "    }\n",
       "\n",
       "    .dataframe tbody tr th {\n",
       "        vertical-align: top;\n",
       "    }\n",
       "\n",
       "    .dataframe thead th {\n",
       "        text-align: right;\n",
       "    }\n",
       "</style>\n",
       "<table border=\"1\" class=\"dataframe\">\n",
       "  <thead>\n",
       "    <tr style=\"text-align: right;\">\n",
       "      <th></th>\n",
       "      <th>Clump_Thickness</th>\n",
       "      <th>Cell_Shape_Uniformity</th>\n",
       "      <th>Marginal_Adhesion</th>\n",
       "      <th>Single_Epi_Cell_Size</th>\n",
       "      <th>Bare_Nuclei</th>\n",
       "      <th>Bland_Chromatin</th>\n",
       "      <th>Class</th>\n",
       "    </tr>\n",
       "  </thead>\n",
       "  <tbody>\n",
       "    <tr>\n",
       "      <th>23</th>\n",
       "      <td>8</td>\n",
       "      <td>5</td>\n",
       "      <td>1</td>\n",
       "      <td>2.0</td>\n",
       "      <td>?</td>\n",
       "      <td>7</td>\n",
       "      <td>none</td>\n",
       "    </tr>\n",
       "    <tr>\n",
       "      <th>40</th>\n",
       "      <td>6</td>\n",
       "      <td>6</td>\n",
       "      <td>9</td>\n",
       "      <td>6.0</td>\n",
       "      <td>?</td>\n",
       "      <td>7</td>\n",
       "      <td>none</td>\n",
       "    </tr>\n",
       "    <tr>\n",
       "      <th>139</th>\n",
       "      <td>1</td>\n",
       "      <td>1</td>\n",
       "      <td>1</td>\n",
       "      <td>1.0</td>\n",
       "      <td>?</td>\n",
       "      <td>2</td>\n",
       "      <td>benign</td>\n",
       "    </tr>\n",
       "    <tr>\n",
       "      <th>145</th>\n",
       "      <td>1</td>\n",
       "      <td>3</td>\n",
       "      <td>1</td>\n",
       "      <td>2.0</td>\n",
       "      <td>?</td>\n",
       "      <td>2</td>\n",
       "      <td>benign</td>\n",
       "    </tr>\n",
       "    <tr>\n",
       "      <th>158</th>\n",
       "      <td>1</td>\n",
       "      <td>2</td>\n",
       "      <td>1</td>\n",
       "      <td>3.0</td>\n",
       "      <td>?</td>\n",
       "      <td>1</td>\n",
       "      <td>benign</td>\n",
       "    </tr>\n",
       "  </tbody>\n",
       "</table>\n",
       "</div>"
      ],
      "text/plain": [
       "     Clump_Thickness  Cell_Shape_Uniformity  Marginal_Adhesion  \\\n",
       "23                 8                      5                  1   \n",
       "40                 6                      6                  9   \n",
       "139                1                      1                  1   \n",
       "145                1                      3                  1   \n",
       "158                1                      2                  1   \n",
       "\n",
       "     Single_Epi_Cell_Size Bare_Nuclei  Bland_Chromatin   Class  \n",
       "23                    2.0           ?                7    none  \n",
       "40                    6.0           ?                7    none  \n",
       "139                   1.0           ?                2  benign  \n",
       "145                   2.0           ?                2  benign  \n",
       "158                   3.0           ?                1  benign  "
      ]
     },
     "execution_count": 122,
     "metadata": {},
     "output_type": "execute_result"
    }
   ],
   "source": [
    "print('Valores ausentes:', len(data[data['Bare_Nuclei'] == '?']))\n",
    "data[data['Bare_Nuclei'] == '?'].head()"
   ]
  },
  {
   "cell_type": "markdown",
   "metadata": {},
   "source": [
    "Inicialmente substituimos os valores ausentes pela mediana, mas após alguns testes verificamos que remover os registros com valores ausentes melhorava a acurácia do modelo, então foi a técnica que resolvemos adotar."
   ]
  },
  {
   "cell_type": "code",
   "execution_count": 123,
   "metadata": {},
   "outputs": [],
   "source": [
    "data.loc[data['Bare_Nuclei'].eq('?'), 'Bare_Nuclei'] = 1"
   ]
  },
  {
   "cell_type": "markdown",
   "metadata": {},
   "source": [
    "Foi aplicado a normalização dos atributos através da técnica MinMax, no intervalos entre 0 e 1 para que nenhum atributo tenha um peso maior nos algoritmos.\n"
   ]
  },
  {
   "cell_type": "code",
   "execution_count": 124,
   "metadata": {
    "scrolled": false
   },
   "outputs": [
    {
     "data": {
      "text/html": [
       "<div>\n",
       "<style scoped>\n",
       "    .dataframe tbody tr th:only-of-type {\n",
       "        vertical-align: middle;\n",
       "    }\n",
       "\n",
       "    .dataframe tbody tr th {\n",
       "        vertical-align: top;\n",
       "    }\n",
       "\n",
       "    .dataframe thead th {\n",
       "        text-align: right;\n",
       "    }\n",
       "</style>\n",
       "<table border=\"1\" class=\"dataframe\">\n",
       "  <thead>\n",
       "    <tr style=\"text-align: right;\">\n",
       "      <th></th>\n",
       "      <th>Clump_Thickness</th>\n",
       "      <th>Cell_Shape_Uniformity</th>\n",
       "      <th>Marginal_Adhesion</th>\n",
       "      <th>Single_Epi_Cell_Size</th>\n",
       "      <th>Bare_Nuclei</th>\n",
       "      <th>Bland_Chromatin</th>\n",
       "      <th>Class</th>\n",
       "    </tr>\n",
       "  </thead>\n",
       "  <tbody>\n",
       "    <tr>\n",
       "      <th>0</th>\n",
       "      <td>0.444444</td>\n",
       "      <td>0.000000</td>\n",
       "      <td>0.000000</td>\n",
       "      <td>0.166667</td>\n",
       "      <td>0.000000</td>\n",
       "      <td>0.222222</td>\n",
       "      <td>none</td>\n",
       "    </tr>\n",
       "    <tr>\n",
       "      <th>1</th>\n",
       "      <td>0.444444</td>\n",
       "      <td>0.333333</td>\n",
       "      <td>0.444444</td>\n",
       "      <td>1.000000</td>\n",
       "      <td>1.000000</td>\n",
       "      <td>0.222222</td>\n",
       "      <td>none</td>\n",
       "    </tr>\n",
       "    <tr>\n",
       "      <th>2</th>\n",
       "      <td>0.222222</td>\n",
       "      <td>0.000000</td>\n",
       "      <td>0.000000</td>\n",
       "      <td>0.166667</td>\n",
       "      <td>0.111111</td>\n",
       "      <td>0.222222</td>\n",
       "      <td>none</td>\n",
       "    </tr>\n",
       "    <tr>\n",
       "      <th>3</th>\n",
       "      <td>0.555556</td>\n",
       "      <td>0.777778</td>\n",
       "      <td>0.000000</td>\n",
       "      <td>0.333333</td>\n",
       "      <td>0.333333</td>\n",
       "      <td>0.222222</td>\n",
       "      <td>none</td>\n",
       "    </tr>\n",
       "    <tr>\n",
       "      <th>4</th>\n",
       "      <td>0.333333</td>\n",
       "      <td>0.000000</td>\n",
       "      <td>0.222222</td>\n",
       "      <td>0.166667</td>\n",
       "      <td>0.000000</td>\n",
       "      <td>0.222222</td>\n",
       "      <td>none</td>\n",
       "    </tr>\n",
       "  </tbody>\n",
       "</table>\n",
       "</div>"
      ],
      "text/plain": [
       "   Clump_Thickness  Cell_Shape_Uniformity  Marginal_Adhesion  \\\n",
       "0         0.444444               0.000000           0.000000   \n",
       "1         0.444444               0.333333           0.444444   \n",
       "2         0.222222               0.000000           0.000000   \n",
       "3         0.555556               0.777778           0.000000   \n",
       "4         0.333333               0.000000           0.222222   \n",
       "\n",
       "   Single_Epi_Cell_Size  Bare_Nuclei  Bland_Chromatin Class  \n",
       "0              0.166667     0.000000         0.222222  none  \n",
       "1              1.000000     1.000000         0.222222  none  \n",
       "2              0.166667     0.111111         0.222222  none  \n",
       "3              0.333333     0.333333         0.222222  none  \n",
       "4              0.166667     0.000000         0.222222  none  "
      ]
     },
     "execution_count": 124,
     "metadata": {},
     "output_type": "execute_result"
    }
   ],
   "source": [
    "from sklearn.preprocessing import MinMaxScaler\n",
    "scaler = MinMaxScaler()\n",
    "\n",
    "col = data.columns.drop('Class')\n",
    "data[col] = scaler.fit_transform(data[col])\n",
    "data.head()"
   ]
  },
  {
   "cell_type": "markdown",
   "metadata": {},
   "source": [
    "## 5. Modelagem\n",
    "\n",
    "Agora que os dados já foram devidamente preparados iniciamos a construção dos modelos. O primeiro a ser desenvolvido foi o **Naive Bayes** Utilizando a biblioteca sklearn."
   ]
  },
  {
   "cell_type": "code",
   "execution_count": 125,
   "metadata": {},
   "outputs": [],
   "source": [
    "from sklearn import preprocessing\n",
    "from sklearn.naive_bayes import GaussianNB"
   ]
  },
  {
   "cell_type": "markdown",
   "metadata": {},
   "source": [
    "Antes de começar a desenvolver o modelo baseado nos nossos dados precisamos remover os registros que estão sem classe."
   ]
  },
  {
   "cell_type": "code",
   "execution_count": 126,
   "metadata": {},
   "outputs": [],
   "source": [
    "data_none = data.loc[data['Class'].eq('none')]\n",
    "data = data.loc[data['Class'].ne('none')]"
   ]
  },
  {
   "cell_type": "markdown",
   "metadata": {},
   "source": [
    "Agora Inicializamos o **Naive Bayes**"
   ]
  },
  {
   "cell_type": "code",
   "execution_count": 127,
   "metadata": {},
   "outputs": [
    {
     "data": {
      "text/plain": [
       "0.9732142857142857"
      ]
     },
     "execution_count": 127,
     "metadata": {},
     "output_type": "execute_result"
    }
   ],
   "source": [
    "label_encoder = preprocessing.LabelEncoder()\n",
    "label =label_encoder.fit_transform(data['Class'])\n",
    "model = GaussianNB()\n",
    "data2 = data.drop(columns=['Class'])\n",
    "model.fit(data2,label)\n",
    "predicted= model.predict(data2)\n",
    "model.score(data2,label)"
   ]
  },
  {
   "cell_type": "markdown",
   "metadata": {},
   "source": [
    "Para avaliar o modelo utilizamos a validação cruzada 10-folds"
   ]
  },
  {
   "cell_type": "code",
   "execution_count": 128,
   "metadata": {},
   "outputs": [
    {
     "name": "stdout",
     "output_type": "stream",
     "text": [
      "0.9827010314995561\n"
     ]
    }
   ],
   "source": [
    "import numpy as np \n",
    "\n",
    "\n",
    "Naive_bayes_score = 0\n",
    "for i in range(10):\n",
    "    msk = np.random.rand(len(data2)) < 0.9\n",
    "    train_data  = data2[msk]\n",
    "    train_label = label[msk]\n",
    "    \n",
    "    test_data  = data2[~msk]\n",
    "    test_label = label[~msk]\n",
    "    \n",
    "    model.fit(train_data,train_label)\n",
    "    Naive_bayes_score += model.score(test_data,test_label)\n",
    "\n",
    "Naive_bayes_score = Naive_bayes_score / 10\n",
    "\n",
    "print(Naive_bayes_score)    "
   ]
  },
  {
   "cell_type": "markdown",
   "metadata": {},
   "source": [
    "Agora o K-NN"
   ]
  },
  {
   "cell_type": "code",
   "execution_count": 129,
   "metadata": {},
   "outputs": [
    {
     "name": "stdout",
     "output_type": "stream",
     "text": [
      "Score: 0.9733695591111602\n"
     ]
    }
   ],
   "source": [
    "from sklearn.neighbors import KNeighborsClassifier\n",
    "\n",
    "cancer_class = {'benign':0, 'malignant':1}\n",
    "data['Class_num'] = [cancer_class[i] for i in data.Class]\n",
    "X = data.drop(['Class', 'Class_num'], axis=1)\n",
    "y = data.Class_num\n",
    "\n",
    "KNN_score = 0\n",
    "for i in range(10):\n",
    "    msk = np.random.rand(len(data)) < 0.9\n",
    "    train_X = X[msk]\n",
    "    train_Y = y[msk]\n",
    "    \n",
    "    test_X = X[~msk]\n",
    "    test_Y = y[~msk]\n",
    "    knn = KNeighborsClassifier(n_neighbors=1)\n",
    "\n",
    "    knn.fit(train_X, train_Y)\n",
    "\n",
    "    KNN_score += knn.score(test_X, test_Y)\n",
    "\n",
    "KNN_score = KNN_score/10\n",
    "\n",
    "print(\"Score:\", KNN_score)"
   ]
  },
  {
   "cell_type": "markdown",
   "metadata": {},
   "source": [
    "Arvore de decisão"
   ]
  },
  {
   "cell_type": "code",
   "execution_count": 130,
   "metadata": {},
   "outputs": [
    {
     "name": "stdout",
     "output_type": "stream",
     "text": [
      "Score: 0.9599899796176627\n"
     ]
    }
   ],
   "source": [
    "from sklearn import tree\n",
    "\n",
    "Tree_score = 0\n",
    "for i in range(10):\n",
    "    msk = np.random.rand(len(data2)) < 0.9\n",
    "    train_data  = data2[msk]\n",
    "    train_label = label[msk]\n",
    "    \n",
    "    test_data  = data2[~msk]\n",
    "    test_label = label[~msk]\n",
    "    \n",
    "    clf = tree.DecisionTreeClassifier()\n",
    "    clf = clf.fit(train_data, train_label)\n",
    "    \n",
    "    \n",
    "    Tree_score += clf.score(test_data,test_label)\n",
    "    \n",
    "Tree_score = Tree_score /10\n",
    "\n",
    "print(\"Score:\", Tree_score)"
   ]
  },
  {
   "cell_type": "markdown",
   "metadata": {},
   "source": [
    "## 5. Avaliação\n",
    "Para avaliar a acruacia de cada modelo foi utilizado o metodo de avaliação cruzada 10-Folds e com base nesses scores o modelo que apresentou o melhor resultado foi o **Naive Bayes**.\n",
    "\n",
    "\n"
   ]
  },
  {
   "cell_type": "code",
   "execution_count": 131,
   "metadata": {},
   "outputs": [
    {
     "data": {
      "text/html": [
       "<div>\n",
       "<style scoped>\n",
       "    .dataframe tbody tr th:only-of-type {\n",
       "        vertical-align: middle;\n",
       "    }\n",
       "\n",
       "    .dataframe tbody tr th {\n",
       "        vertical-align: top;\n",
       "    }\n",
       "\n",
       "    .dataframe thead th {\n",
       "        text-align: right;\n",
       "    }\n",
       "</style>\n",
       "<table border=\"1\" class=\"dataframe\">\n",
       "  <thead>\n",
       "    <tr style=\"text-align: right;\">\n",
       "      <th></th>\n",
       "      <th>Algoritmo</th>\n",
       "      <th>Precisão</th>\n",
       "    </tr>\n",
       "  </thead>\n",
       "  <tbody>\n",
       "    <tr>\n",
       "      <th>0</th>\n",
       "      <td>Naive_Bayes</td>\n",
       "      <td>0.982701</td>\n",
       "    </tr>\n",
       "    <tr>\n",
       "      <th>1</th>\n",
       "      <td>K-NN</td>\n",
       "      <td>0.973370</td>\n",
       "    </tr>\n",
       "    <tr>\n",
       "      <th>2</th>\n",
       "      <td>Arvore de Decisão</td>\n",
       "      <td>0.959990</td>\n",
       "    </tr>\n",
       "  </tbody>\n",
       "</table>\n",
       "</div>"
      ],
      "text/plain": [
       "           Algoritmo  Precisão\n",
       "0        Naive_Bayes  0.982701\n",
       "1               K-NN  0.973370\n",
       "2  Arvore de Decisão  0.959990"
      ]
     },
     "execution_count": 131,
     "metadata": {},
     "output_type": "execute_result"
    }
   ],
   "source": [
    "pd.DataFrame(\n",
    "    {'Algoritmo': ['Naive_Bayes','K-NN', 'Arvore de Decisão'],\n",
    "     'Precisão' : [Naive_bayes_score, KNN_score, Tree_score]}\n",
    ").head()"
   ]
  },
  {
   "cell_type": "markdown",
   "metadata": {},
   "source": [
    "Agora vamos classificar nossos registros que estavam sem classe Com o Naive Bayes"
   ]
  },
  {
   "cell_type": "code",
   "execution_count": 132,
   "metadata": {},
   "outputs": [
    {
     "data": {
      "text/html": [
       "<div>\n",
       "<style scoped>\n",
       "    .dataframe tbody tr th:only-of-type {\n",
       "        vertical-align: middle;\n",
       "    }\n",
       "\n",
       "    .dataframe tbody tr th {\n",
       "        vertical-align: top;\n",
       "    }\n",
       "\n",
       "    .dataframe thead th {\n",
       "        text-align: right;\n",
       "    }\n",
       "</style>\n",
       "<table border=\"1\" class=\"dataframe\">\n",
       "  <thead>\n",
       "    <tr style=\"text-align: right;\">\n",
       "      <th></th>\n",
       "      <th>Clump_Thickness</th>\n",
       "      <th>Cell_Shape_Uniformity</th>\n",
       "      <th>Marginal_Adhesion</th>\n",
       "      <th>Single_Epi_Cell_Size</th>\n",
       "      <th>Bare_Nuclei</th>\n",
       "      <th>Bland_Chromatin</th>\n",
       "      <th>Class</th>\n",
       "    </tr>\n",
       "  </thead>\n",
       "  <tbody>\n",
       "    <tr>\n",
       "      <th>0</th>\n",
       "      <td>0.444444</td>\n",
       "      <td>0.000000</td>\n",
       "      <td>0.000000</td>\n",
       "      <td>0.166667</td>\n",
       "      <td>0.000000</td>\n",
       "      <td>0.222222</td>\n",
       "      <td>malignant</td>\n",
       "    </tr>\n",
       "    <tr>\n",
       "      <th>1</th>\n",
       "      <td>0.444444</td>\n",
       "      <td>0.333333</td>\n",
       "      <td>0.444444</td>\n",
       "      <td>1.000000</td>\n",
       "      <td>1.000000</td>\n",
       "      <td>0.222222</td>\n",
       "      <td>benign</td>\n",
       "    </tr>\n",
       "    <tr>\n",
       "      <th>2</th>\n",
       "      <td>0.222222</td>\n",
       "      <td>0.000000</td>\n",
       "      <td>0.000000</td>\n",
       "      <td>0.166667</td>\n",
       "      <td>0.111111</td>\n",
       "      <td>0.222222</td>\n",
       "      <td>malignant</td>\n",
       "    </tr>\n",
       "    <tr>\n",
       "      <th>3</th>\n",
       "      <td>0.555556</td>\n",
       "      <td>0.777778</td>\n",
       "      <td>0.000000</td>\n",
       "      <td>0.333333</td>\n",
       "      <td>0.333333</td>\n",
       "      <td>0.222222</td>\n",
       "      <td>benign</td>\n",
       "    </tr>\n",
       "    <tr>\n",
       "      <th>4</th>\n",
       "      <td>0.333333</td>\n",
       "      <td>0.000000</td>\n",
       "      <td>0.222222</td>\n",
       "      <td>0.166667</td>\n",
       "      <td>0.000000</td>\n",
       "      <td>0.222222</td>\n",
       "      <td>malignant</td>\n",
       "    </tr>\n",
       "    <tr>\n",
       "      <th>5</th>\n",
       "      <td>0.777778</td>\n",
       "      <td>1.000000</td>\n",
       "      <td>0.777778</td>\n",
       "      <td>1.000000</td>\n",
       "      <td>1.000000</td>\n",
       "      <td>0.888889</td>\n",
       "      <td>benign</td>\n",
       "    </tr>\n",
       "    <tr>\n",
       "      <th>6</th>\n",
       "      <td>0.000000</td>\n",
       "      <td>0.000000</td>\n",
       "      <td>0.000000</td>\n",
       "      <td>0.166667</td>\n",
       "      <td>1.000000</td>\n",
       "      <td>0.222222</td>\n",
       "      <td>benign</td>\n",
       "    </tr>\n",
       "    <tr>\n",
       "      <th>7</th>\n",
       "      <td>0.111111</td>\n",
       "      <td>0.111111</td>\n",
       "      <td>0.000000</td>\n",
       "      <td>0.166667</td>\n",
       "      <td>0.000000</td>\n",
       "      <td>0.222222</td>\n",
       "      <td>malignant</td>\n",
       "    </tr>\n",
       "    <tr>\n",
       "      <th>8</th>\n",
       "      <td>0.111111</td>\n",
       "      <td>0.000000</td>\n",
       "      <td>0.000000</td>\n",
       "      <td>0.166667</td>\n",
       "      <td>0.000000</td>\n",
       "      <td>0.000000</td>\n",
       "      <td>malignant</td>\n",
       "    </tr>\n",
       "    <tr>\n",
       "      <th>9</th>\n",
       "      <td>0.333333</td>\n",
       "      <td>0.000000</td>\n",
       "      <td>0.000000</td>\n",
       "      <td>0.166667</td>\n",
       "      <td>0.000000</td>\n",
       "      <td>0.111111</td>\n",
       "      <td>malignant</td>\n",
       "    </tr>\n",
       "  </tbody>\n",
       "</table>\n",
       "</div>"
      ],
      "text/plain": [
       "   Clump_Thickness  Cell_Shape_Uniformity  Marginal_Adhesion  \\\n",
       "0         0.444444               0.000000           0.000000   \n",
       "1         0.444444               0.333333           0.444444   \n",
       "2         0.222222               0.000000           0.000000   \n",
       "3         0.555556               0.777778           0.000000   \n",
       "4         0.333333               0.000000           0.222222   \n",
       "5         0.777778               1.000000           0.777778   \n",
       "6         0.000000               0.000000           0.000000   \n",
       "7         0.111111               0.111111           0.000000   \n",
       "8         0.111111               0.000000           0.000000   \n",
       "9         0.333333               0.000000           0.000000   \n",
       "\n",
       "   Single_Epi_Cell_Size  Bare_Nuclei  Bland_Chromatin      Class  \n",
       "0              0.166667     0.000000         0.222222  malignant  \n",
       "1              1.000000     1.000000         0.222222     benign  \n",
       "2              0.166667     0.111111         0.222222  malignant  \n",
       "3              0.333333     0.333333         0.222222     benign  \n",
       "4              0.166667     0.000000         0.222222  malignant  \n",
       "5              1.000000     1.000000         0.888889     benign  \n",
       "6              0.166667     1.000000         0.222222     benign  \n",
       "7              0.166667     0.000000         0.222222  malignant  \n",
       "8              0.166667     0.000000         0.000000  malignant  \n",
       "9              0.166667     0.000000         0.111111  malignant  "
      ]
     },
     "execution_count": 132,
     "metadata": {},
     "output_type": "execute_result"
    }
   ],
   "source": [
    "model = GaussianNB()\n",
    "model.fit(data2,label)\n",
    "\n",
    "data_predict = data_none.loc[data_none['Class'].eq('none')]\n",
    "\n",
    "data_predict = data_predict.drop(columns=['Class'])\n",
    "\n",
    "predicted= model.predict(data_predict)\n",
    "\n",
    "c = ['malignant', 'benign']\n",
    "cancer_class = [c[i] for i in predicted]\n",
    "\n",
    "data_predict['Class'] = cancer_class\n",
    "data_predict.head(10)\n"
   ]
  },
  {
   "cell_type": "markdown",
   "metadata": {},
   "source": [
    "depois de classificar vamos validar com os resultados do arquivo fornecido pelo professor e avaliar a acuracia."
   ]
  },
  {
   "cell_type": "code",
   "execution_count": 133,
   "metadata": {},
   "outputs": [
    {
     "data": {
      "text/plain": [
       "<matplotlib.axes._subplots.AxesSubplot at 0x7f670ab28550>"
      ]
     },
     "execution_count": 133,
     "metadata": {},
     "output_type": "execute_result"
    },
    {
     "data": {
      "image/png": "[encoded data removed]",
      "text/plain": [
       "<Figure size 432x288 with 2 Axes>"
      ]
     },
     "metadata": {},
     "output_type": "display_data"
    }
   ],
   "source": [
    "from sklearn.metrics import confusion_matrix\n",
    "from confusion_matrix import plot_confusion_matrix\n",
    "import seaborn as sn\n",
    "\n",
    "anexo1 = pd.read_csv('anexo_1.csv', nrows=139)\n",
    "\n",
    "\n",
    "confusion = confusion_matrix(anexo1.Class,data_predict.Class)\n",
    "confusion = pd.DataFrame(data=confusion, columns=['classe real', 'classe predita'], index=c)\n",
    "sn.heatmap(confusion,  annot=True)\n",
    "\n",
    "\n"
   ]
  },
  {
   "cell_type": "code",
   "execution_count": null,
   "metadata": {},
   "outputs": [],
   "source": []
  }
 ],
 "metadata": {
  "kernelspec": {
   "display_name": "Python 3",
   "language": "python",
   "name": "python3"
  },
  "language_info": {
   "codemirror_mode": {
    "name": "ipython",
    "version": 3
   },
   "file_extension": ".py",
   "mimetype": "text/x-python",
   "name": "python",
   "nbconvert_exporter": "python",
   "pygments_lexer": "ipython3",
   "version": "3.6.7"
  }
 },
 "nbformat": 4,
 "nbformat_minor": 2
}
